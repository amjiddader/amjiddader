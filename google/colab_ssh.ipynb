!pip install git+https://github.com/demotomohiro/remocolab.git
import remocolab

#IF YOU WANT SSH ONLY 
remocolab.setupSSHD(ngrok_region = "ap")
